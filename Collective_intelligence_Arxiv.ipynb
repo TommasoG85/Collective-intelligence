{
  "nbformat": 4,
  "nbformat_minor": 0,
  "metadata": {
    "colab": {
      "provenance": [],
      "authorship_tag": "ABX9TyPOjKbkKx6Unac4ShmIVhav",
      "include_colab_link": true
    },
    "kernelspec": {
      "name": "python3",
      "display_name": "Python 3"
    },
    "language_info": {
      "name": "python"
    },
    "widgets": {
      "application/vnd.jupyter.widget-state+json": {
        "d254c9cbb86a4f65865416b66b8f9e0e": {
          "model_module": "@jupyter-widgets/controls",
          "model_name": "HBoxModel",
          "model_module_version": "1.5.0",
          "state": {
            "_dom_classes": [],
            "_model_module": "@jupyter-widgets/controls",
            "_model_module_version": "1.5.0",
            "_model_name": "HBoxModel",
            "_view_count": null,
            "_view_module": "@jupyter-widgets/controls",
            "_view_module_version": "1.5.0",
            "_view_name": "HBoxView",
            "box_style": "",
            "children": [
              "IPY_MODEL_5e90a59bf80844f5a87fd37e96b66e40",
              "IPY_MODEL_af16db957544412a900c9cc912340636",
              "IPY_MODEL_dd663f14d501401f836476ef5f0b0d1b"
            ],
            "layout": "IPY_MODEL_89588c8beac341e7a330d9c6a055ea84"
          }
        },
        "5e90a59bf80844f5a87fd37e96b66e40": {
          "model_module": "@jupyter-widgets/controls",
          "model_name": "HTMLModel",
          "model_module_version": "1.5.0",
          "state": {
            "_dom_classes": [],
            "_model_module": "@jupyter-widgets/controls",
            "_model_module_version": "1.5.0",
            "_model_name": "HTMLModel",
            "_view_count": null,
            "_view_module": "@jupyter-widgets/controls",
            "_view_module_version": "1.5.0",
            "_view_name": "HTMLView",
            "description": "",
            "description_tooltip": null,
            "layout": "IPY_MODEL_cbca4edf29764a63b9b078a5e0b4770e",
            "placeholder": "​",
            "style": "IPY_MODEL_0d31e43c5ade4b43b700257aea53053b",
            "value": "Batches: 100%"
          }
        },
        "af16db957544412a900c9cc912340636": {
          "model_module": "@jupyter-widgets/controls",
          "model_name": "FloatProgressModel",
          "model_module_version": "1.5.0",
          "state": {
            "_dom_classes": [],
            "_model_module": "@jupyter-widgets/controls",
            "_model_module_version": "1.5.0",
            "_model_name": "FloatProgressModel",
            "_view_count": null,
            "_view_module": "@jupyter-widgets/controls",
            "_view_module_version": "1.5.0",
            "_view_name": "ProgressView",
            "bar_style": "success",
            "description": "",
            "description_tooltip": null,
            "layout": "IPY_MODEL_bd8996375b4c44c1b4a59c96c41a74e8",
            "max": 10,
            "min": 0,
            "orientation": "horizontal",
            "style": "IPY_MODEL_149bbc780bb940779a05324e3ada87ed",
            "value": 10
          }
        },
        "dd663f14d501401f836476ef5f0b0d1b": {
          "model_module": "@jupyter-widgets/controls",
          "model_name": "HTMLModel",
          "model_module_version": "1.5.0",
          "state": {
            "_dom_classes": [],
            "_model_module": "@jupyter-widgets/controls",
            "_model_module_version": "1.5.0",
            "_model_name": "HTMLModel",
            "_view_count": null,
            "_view_module": "@jupyter-widgets/controls",
            "_view_module_version": "1.5.0",
            "_view_name": "HTMLView",
            "description": "",
            "description_tooltip": null,
            "layout": "IPY_MODEL_cfaf629ca65e45f9a59e6603d9a4c11f",
            "placeholder": "​",
            "style": "IPY_MODEL_5b9d86ce7b5b4a4ca5b88584ce9efac7",
            "value": " 10/10 [00:29&lt;00:00,  1.68s/it]"
          }
        },
        "89588c8beac341e7a330d9c6a055ea84": {
          "model_module": "@jupyter-widgets/base",
          "model_name": "LayoutModel",
          "model_module_version": "1.2.0",
          "state": {
            "_model_module": "@jupyter-widgets/base",
            "_model_module_version": "1.2.0",
            "_model_name": "LayoutModel",
            "_view_count": null,
            "_view_module": "@jupyter-widgets/base",
            "_view_module_version": "1.2.0",
            "_view_name": "LayoutView",
            "align_content": null,
            "align_items": null,
            "align_self": null,
            "border": null,
            "bottom": null,
            "display": null,
            "flex": null,
            "flex_flow": null,
            "grid_area": null,
            "grid_auto_columns": null,
            "grid_auto_flow": null,
            "grid_auto_rows": null,
            "grid_column": null,
            "grid_gap": null,
            "grid_row": null,
            "grid_template_areas": null,
            "grid_template_columns": null,
            "grid_template_rows": null,
            "height": null,
            "justify_content": null,
            "justify_items": null,
            "left": null,
            "margin": null,
            "max_height": null,
            "max_width": null,
            "min_height": null,
            "min_width": null,
            "object_fit": null,
            "object_position": null,
            "order": null,
            "overflow": null,
            "overflow_x": null,
            "overflow_y": null,
            "padding": null,
            "right": null,
            "top": null,
            "visibility": null,
            "width": null
          }
        },
        "cbca4edf29764a63b9b078a5e0b4770e": {
          "model_module": "@jupyter-widgets/base",
          "model_name": "LayoutModel",
          "model_module_version": "1.2.0",
          "state": {
            "_model_module": "@jupyter-widgets/base",
            "_model_module_version": "1.2.0",
            "_model_name": "LayoutModel",
            "_view_count": null,
            "_view_module": "@jupyter-widgets/base",
            "_view_module_version": "1.2.0",
            "_view_name": "LayoutView",
            "align_content": null,
            "align_items": null,
            "align_self": null,
            "border": null,
            "bottom": null,
            "display": null,
            "flex": null,
            "flex_flow": null,
            "grid_area": null,
            "grid_auto_columns": null,
            "grid_auto_flow": null,
            "grid_auto_rows": null,
            "grid_column": null,
            "grid_gap": null,
            "grid_row": null,
            "grid_template_areas": null,
            "grid_template_columns": null,
            "grid_template_rows": null,
            "height": null,
            "justify_content": null,
            "justify_items": null,
            "left": null,
            "margin": null,
            "max_height": null,
            "max_width": null,
            "min_height": null,
            "min_width": null,
            "object_fit": null,
            "object_position": null,
            "order": null,
            "overflow": null,
            "overflow_x": null,
            "overflow_y": null,
            "padding": null,
            "right": null,
            "top": null,
            "visibility": null,
            "width": null
          }
        },
        "0d31e43c5ade4b43b700257aea53053b": {
          "model_module": "@jupyter-widgets/controls",
          "model_name": "DescriptionStyleModel",
          "model_module_version": "1.5.0",
          "state": {
            "_model_module": "@jupyter-widgets/controls",
            "_model_module_version": "1.5.0",
            "_model_name": "DescriptionStyleModel",
            "_view_count": null,
            "_view_module": "@jupyter-widgets/base",
            "_view_module_version": "1.2.0",
            "_view_name": "StyleView",
            "description_width": ""
          }
        },
        "bd8996375b4c44c1b4a59c96c41a74e8": {
          "model_module": "@jupyter-widgets/base",
          "model_name": "LayoutModel",
          "model_module_version": "1.2.0",
          "state": {
            "_model_module": "@jupyter-widgets/base",
            "_model_module_version": "1.2.0",
            "_model_name": "LayoutModel",
            "_view_count": null,
            "_view_module": "@jupyter-widgets/base",
            "_view_module_version": "1.2.0",
            "_view_name": "LayoutView",
            "align_content": null,
            "align_items": null,
            "align_self": null,
            "border": null,
            "bottom": null,
            "display": null,
            "flex": null,
            "flex_flow": null,
            "grid_area": null,
            "grid_auto_columns": null,
            "grid_auto_flow": null,
            "grid_auto_rows": null,
            "grid_column": null,
            "grid_gap": null,
            "grid_row": null,
            "grid_template_areas": null,
            "grid_template_columns": null,
            "grid_template_rows": null,
            "height": null,
            "justify_content": null,
            "justify_items": null,
            "left": null,
            "margin": null,
            "max_height": null,
            "max_width": null,
            "min_height": null,
            "min_width": null,
            "object_fit": null,
            "object_position": null,
            "order": null,
            "overflow": null,
            "overflow_x": null,
            "overflow_y": null,
            "padding": null,
            "right": null,
            "top": null,
            "visibility": null,
            "width": null
          }
        },
        "149bbc780bb940779a05324e3ada87ed": {
          "model_module": "@jupyter-widgets/controls",
          "model_name": "ProgressStyleModel",
          "model_module_version": "1.5.0",
          "state": {
            "_model_module": "@jupyter-widgets/controls",
            "_model_module_version": "1.5.0",
            "_model_name": "ProgressStyleModel",
            "_view_count": null,
            "_view_module": "@jupyter-widgets/base",
            "_view_module_version": "1.2.0",
            "_view_name": "StyleView",
            "bar_color": null,
            "description_width": ""
          }
        },
        "cfaf629ca65e45f9a59e6603d9a4c11f": {
          "model_module": "@jupyter-widgets/base",
          "model_name": "LayoutModel",
          "model_module_version": "1.2.0",
          "state": {
            "_model_module": "@jupyter-widgets/base",
            "_model_module_version": "1.2.0",
            "_model_name": "LayoutModel",
            "_view_count": null,
            "_view_module": "@jupyter-widgets/base",
            "_view_module_version": "1.2.0",
            "_view_name": "LayoutView",
            "align_content": null,
            "align_items": null,
            "align_self": null,
            "border": null,
            "bottom": null,
            "display": null,
            "flex": null,
            "flex_flow": null,
            "grid_area": null,
            "grid_auto_columns": null,
            "grid_auto_flow": null,
            "grid_auto_rows": null,
            "grid_column": null,
            "grid_gap": null,
            "grid_row": null,
            "grid_template_areas": null,
            "grid_template_columns": null,
            "grid_template_rows": null,
            "height": null,
            "justify_content": null,
            "justify_items": null,
            "left": null,
            "margin": null,
            "max_height": null,
            "max_width": null,
            "min_height": null,
            "min_width": null,
            "object_fit": null,
            "object_position": null,
            "order": null,
            "overflow": null,
            "overflow_x": null,
            "overflow_y": null,
            "padding": null,
            "right": null,
            "top": null,
            "visibility": null,
            "width": null
          }
        },
        "5b9d86ce7b5b4a4ca5b88584ce9efac7": {
          "model_module": "@jupyter-widgets/controls",
          "model_name": "DescriptionStyleModel",
          "model_module_version": "1.5.0",
          "state": {
            "_model_module": "@jupyter-widgets/controls",
            "_model_module_version": "1.5.0",
            "_model_name": "DescriptionStyleModel",
            "_view_count": null,
            "_view_module": "@jupyter-widgets/base",
            "_view_module_version": "1.2.0",
            "_view_name": "StyleView",
            "description_width": ""
          }
        }
      }
    }
  },
  "cells": [
    {
      "cell_type": "markdown",
      "metadata": {
        "id": "view-in-github",
        "colab_type": "text"
      },
      "source": [
        "<a href=\"https://colab.research.google.com/github/TommasoG85/Collective-intelligence/blob/main/Collective_intelligence_Arxiv.ipynb\" target=\"_parent\"><img src=\"https://colab.research.google.com/assets/colab-badge.svg\" alt=\"Open In Colab\"/></a>"
      ]
    },
    {
      "cell_type": "code",
      "source": [
        "#!pip install bertopic\n",
        "\n",
        "import requests\n",
        "import xml.etree.ElementTree as ET\n",
        "import pandas as pd\n",
        "from bertopic import BERTopic\n",
        "from sentence_transformers import SentenceTransformer\n",
        "import nltk\n",
        "from nltk.corpus import stopwords\n",
        "from sklearn.feature_extraction.text import CountVectorizer\n",
        "import matplotlib.pyplot as plt\n",
        "import numpy as np\n",
        "import umap\n",
        "import plotly.express as px\n",
        "import random\n",
        "from hdbscan import HDBSCAN\n",
        "from datetime import datetime\n",
        "from collections import defaultdict\n",
        "\n",
        "# Set a random seed for reproducibility\n",
        "random.seed(2)\n",
        "np.random.seed(2)\n",
        "\n",
        "# Download the NLTK stopwords\n",
        "nltk.download('stopwords')\n",
        "\n",
        "# Get the English stopwords from NLTK\n",
        "stopwords_nltk = stopwords.words('english')\n",
        "\n",
        "# Step 1: Fetch Data from arXiv API\n",
        "def fetch_arxiv_abstracts(query=\"collective intelligence, social brain, group intelligence, crowd intelligence, social intelligence, collective rationality, complex adaptive systems, superorganism\",max_results=50000):\n",
        "    url = 'http://export.arxiv.org/api/query'\n",
        "    params = {\n",
        "        'search_query': f'all:\"{query}\"',\n",
        "        'start': 0,\n",
        "        'max_results': max_results,\n",
        "        'sortBy': 'relevance',\n",
        "        \"sortOrder\": \"descending\",  # Newest first\n",
        "    }\n",
        "    response = requests.get(url, params=params)\n",
        "    data = response.text\n",
        "\n",
        "    # Parse XML response\n",
        "    root = ET.fromstring(data)\n",
        "    records = []\n",
        "    for entry in root.findall(\"{http://www.w3.org/2005/Atom}entry\"):\n",
        "        title = entry.find(\"{http://www.w3.org/2005/Atom}title\").text\n",
        "        summary = entry.find(\"{http://www.w3.org/2005/Atom}summary\").text\n",
        "        published = entry.find(\"{http://www.w3.org/2005/Atom}published\").text\n",
        "        authors = [author.find(\"{http://www.w3.org/2005/Atom}name\").text for author in entry.findall(\"{http://www.w3.org/2005/Atom}author\")]\n",
        "        url = entry.find(\"{http://www.w3.org/2005/Atom}id\").text\n",
        "\n",
        "        # Convert 'published' to a datetime object if needed\n",
        "        published_date = datetime.strptime(published, \"%Y-%m-%dT%H:%M:%SZ\").date()\n",
        "\n",
        "        records.append({\n",
        "            \"title\": title,\n",
        "            \"authors\": \", \".join(authors),\n",
        "            \"abstract\": summary,\n",
        "            \"published_date\": published,\n",
        "            \"arxiv_url\": url\n",
        "        })\n",
        "\n",
        "    return pd.DataFrame(records)\n",
        "\n",
        "# Fetch abstracts with multiple search terms\n",
        "df = fetch_arxiv_abstracts(query=\"collective intelligence\",max_results=10000)\n",
        "print(\"Data fetched from arXiv.\")\n",
        "\n",
        "# Save abstracts to a CSV file (optional)\n",
        "df.to_csv(\"arxiv_collective_intelligence.csv\", index=False)\n",
        "\n",
        "# Step 2: Clean the Abstracts by Removing Stopwords\n",
        "def remove_stopwords(text, stopwords_list):\n",
        "    words = text.split()\n",
        "    filtered_words = [word for word in words if word.lower() not in stopwords_list]\n",
        "    return \" \".join(filtered_words)\n",
        "\n",
        "# Clean the abstracts\n",
        "df['cleaned_abstract'] = df['abstract'].apply(lambda x: remove_stopwords(x, stopwords_nltk))\n",
        "\n",
        "# Step 3: Use BERT for Embedding\n",
        "# Load a pre-trained SentenceTransformer model for BERT embeddings\n",
        "model = SentenceTransformer('all-MiniLM-L6-v2')\n",
        "\n",
        "# Generate embeddings for the cleaned abstracts\n",
        "abstracts = df['cleaned_abstract'].tolist()\n",
        "embeddings = model.encode(abstracts, show_progress_bar=True)\n",
        "timestamps = df['published_date'].tolist()\n",
        "print(\"BERT embeddings generated.\")\n",
        "\n",
        "# Step 4: Topic Modeling with BERTopic\n",
        "# Initialize a custom CountVectorizer with stopwords\n",
        "vectorizer_model = CountVectorizer(stop_words=stopwords_nltk)\n",
        "\n",
        "# Initialize the clustering model (HDBSCAN) with a fixed random state\n",
        "# The 'random_state' parameter should be removed from KDTree\n",
        "hdbscan_model = HDBSCAN(\n",
        "    min_cluster_size=4, # Controls the minimum number of points to form a cluster (increase to reduce outliers)\n",
        "    min_samples=5, # Controls the minimum number of points to form a cluster (increase to reduce outliers)\n",
        "    metric='euclidean',\n",
        "    cluster_selection_method='eom',\n",
        "    prediction_data=True\n",
        "    #random_state=222  # This is fine here\n",
        ")\n",
        "\n",
        "# Initialize BERTopic with the custom vectorizer\n",
        "topic_model = BERTopic(\n",
        "    hdbscan_model=hdbscan_model,\n",
        "    vectorizer_model=vectorizer_model,\n",
        "    min_topic_size=5,\n",
        "    verbose=True,\n",
        "    nr_topics=500,\n",
        "    top_n_words=5\n",
        ")\n",
        "\n",
        "# Fit the model to the cleaned abstracts and embeddings\n",
        "topics, probabilities = topic_model.fit_transform(abstracts, embeddings)\n",
        "topics_over_time = topic_model.topics_over_time(abstracts, timestamps)\n",
        "\n",
        "# Display the assigned topics to check for issues\n",
        "print(\"Assigned topics:\", topics)\n",
        "print(\"Unique topics:\", set(topics))\n",
        "\n",
        "# Step 5: Visualize Topics\n",
        "\n",
        "# 1. Save the Topic Visualization as HTML\n",
        "topic_plot = topic_model.visualize_topics()\n",
        "topic_plot.write_html(\"topic_visualization.html\")\n",
        "from google.colab import files\n",
        "files.download(\"topic_visualization.html\")\n",
        "\n",
        "# 2. Save the Hierarchy Visualization as HTML\n",
        "hierarchy_plot = topic_model.visualize_hierarchy()\n",
        "hierarchy_plot.write_html(\"hierarchy_visualization.html\")\n",
        "files.download(\"hierarchy_visualization.html\")\n",
        "\n",
        "# 3. Save the Heatmap Visualization as HTML\n",
        "heatmap_plot = topic_model.visualize_heatmap()\n",
        "heatmap_plot.write_html(\"heatmap_visualization.html\")\n",
        "files.download(\"heatmap_visualization.html\")\n",
        "\n",
        "# 4. Save the Bar Chart Visualization as HTML\n",
        "barchart_plot = topic_model.visualize_barchart()\n",
        "barchart_plot.write_html(\"barchart_visualization.html\")\n",
        "files.download(\"barchart_visualization.html\")\n",
        "\n",
        "# Step 1: Reduce dimensionality to 2D using UMAP\n",
        "umap_model = umap.UMAP(n_neighbors=30, min_dist=0.1, metric='cosine', n_components=2)\n",
        "umap_embeddings = umap_model.fit_transform(embeddings)\n",
        "\n",
        "# Step 2: Create a DataFrame with UMAP coordinates, topic labels, and topic names\n",
        "topics_df = pd.DataFrame({\n",
        "    'UMAP_1': umap_embeddings[:, 0],\n",
        "    'UMAP_2': umap_embeddings[:, 1],\n",
        "    'Topic': topics\n",
        "})\n",
        "\n",
        "# Step 3: Generate topic names based on top words for each topic\n",
        "topic_names = []\n",
        "for i in range(max(topics) + 1):  # Iterate over each topic number\n",
        "    top_words = topic_model.get_topic(i)  # Get top words for the topic\n",
        "    top_words = [word for word, _ in top_words]  # Extract words from the topic\n",
        "    topic_names.append(\" \".join(top_words))  # Join them into a single string\n",
        "\n",
        "# Map topic names to the topics\n",
        "topics_df['Topic Name'] = topics_df['Topic'].map(lambda x: topic_names[x])\n",
        "\n",
        "# Step 4: Create a Plotly 2D scatter plot\n",
        "fig = px.scatter(topics_df, x='UMAP_1', y='UMAP_2', color='Topic Name',\n",
        "                 hover_data=['Topic', 'Topic Name'], title=\"2D Topic Scatter Plot (Colorized by Topics)\")\n",
        "\n",
        "# Step 6: Save the plot as an interactive HTML file\n",
        "fig.write_html(\"topic_scatter_2d_plot_with_lines.html\")\n",
        "\n",
        "# Download the file in Colab\n",
        "files.download(\"topic_scatter_2d_plot_with_lines.html\")\n",
        "\n",
        "# Create and save temporal visualization as an HTML file\n",
        "temporal_plot = topic_model.visualize_topics_over_time(topics_over_time)\n",
        "temporal_plot.write_html(\"temporal_visualization.html\")\n",
        "\n",
        "# Download the HTML file if needed\n",
        "files.download(\"temporal_visualization.html\")\n",
        "\n",
        "\n",
        "# Step 7: Add Topic Assignments and Topic Names to DataFrame\n",
        "df['Topic'] = topics  # Add topic IDs to the DataFrame\n",
        "df['Topic Name'] = df['Topic'].map(lambda x: topic_names[x])  # Add topic names based on the top words\n",
        "\n",
        "# Select relevant columns for the HTML table\n",
        "table_data = df[['title', 'abstract', 'Topic', 'Topic Name']]\n",
        "\n",
        "# Step 7: Save the DataFrame as an HTML file\n",
        "html_file = \"papers_with_topics.html\"\n",
        "table_data.to_html(html_file, index=False)\n",
        "\n",
        "# Optionally, download the HTML file in Google Colab\n",
        "from google.colab import files\n",
        "files.download(html_file)\n"
      ],
      "metadata": {
        "colab": {
          "base_uri": "https://localhost:8080/",
          "height": 451,
          "referenced_widgets": [
            "d254c9cbb86a4f65865416b66b8f9e0e",
            "5e90a59bf80844f5a87fd37e96b66e40",
            "af16db957544412a900c9cc912340636",
            "dd663f14d501401f836476ef5f0b0d1b",
            "89588c8beac341e7a330d9c6a055ea84",
            "cbca4edf29764a63b9b078a5e0b4770e",
            "0d31e43c5ade4b43b700257aea53053b",
            "bd8996375b4c44c1b4a59c96c41a74e8",
            "149bbc780bb940779a05324e3ada87ed",
            "cfaf629ca65e45f9a59e6603d9a4c11f",
            "5b9d86ce7b5b4a4ca5b88584ce9efac7"
          ]
        },
        "id": "xBbOgKTE2Thj",
        "outputId": "12de2000-1e75-41b4-825d-eb3933a73449"
      },
      "execution_count": null,
      "outputs": [
        {
          "output_type": "stream",
          "name": "stderr",
          "text": [
            "[nltk_data] Downloading package stopwords to /root/nltk_data...\n",
            "[nltk_data]   Package stopwords is already up-to-date!\n"
          ]
        },
        {
          "output_type": "stream",
          "name": "stdout",
          "text": [
            "Data fetched from arXiv.\n"
          ]
        },
        {
          "output_type": "display_data",
          "data": {
            "text/plain": [
              "Batches:   0%|          | 0/10 [00:00<?, ?it/s]"
            ],
            "application/vnd.jupyter.widget-view+json": {
              "version_major": 2,
              "version_minor": 0,
              "model_id": "d254c9cbb86a4f65865416b66b8f9e0e"
            }
          },
          "metadata": {}
        },
        {
          "output_type": "stream",
          "name": "stderr",
          "text": [
            "2024-11-08 17:07:11,735 - BERTopic - Dimensionality - Fitting the dimensionality reduction algorithm\n"
          ]
        },
        {
          "output_type": "stream",
          "name": "stdout",
          "text": [
            "BERT embeddings generated.\n"
          ]
        },
        {
          "output_type": "stream",
          "name": "stderr",
          "text": [
            "2024-11-08 17:07:12,411 - BERTopic - Dimensionality - Completed ✓\n",
            "2024-11-08 17:07:12,414 - BERTopic - Cluster - Start clustering the reduced embeddings\n",
            "2024-11-08 17:07:12,432 - BERTopic - Cluster - Completed ✓\n",
            "2024-11-08 17:07:12,434 - BERTopic - Representation - Extracting topics from clusters using representation models.\n",
            "2024-11-08 17:07:12,521 - BERTopic - Representation - Completed ✓\n",
            "2024-11-08 17:07:12,522 - BERTopic - Topic reduction - Reducing number of topics\n",
            "2024-11-08 17:07:12,527 - BERTopic - Topic reduction - Reduced number of topics from 14 to 14\n",
            "2024-11-08 17:07:12,650 - BERTopic - WARNING: There are more than 100 unique timestamps (i.e., 295) which significantly slows down the application. Consider setting `nr_bins` to a value lower than 100 to speed up calculation. \n",
            "295it [00:05, 55.96it/s]\n"
          ]
        },
        {
          "output_type": "stream",
          "name": "stdout",
          "text": [
            "Assigned topics: [11, 5, -1, 5, 5, 6, 5, -1, 5, 4, 12, -1, 6, 5, 6, 6, -1, 1, 11, 5, 11, 5, 6, 5, 5, 5, 12, 5, 1, 5, 12, 5, -1, 1, 9, 5, 5, 4, 6, -1, 10, -1, -1, 8, 10, 8, 3, 5, 5, 0, 5, 5, -1, -1, 4, 6, 1, 0, 5, -1, 0, 5, 1, 4, 1, 5, -1, 2, 5, -1, 6, 10, 2, 5, -1, -1, -1, 6, 5, 5, 6, 6, -1, 6, 1, 5, 3, -1, 6, 12, 6, 6, 2, 0, 5, -1, 4, 5, 5, 3, -1, 7, -1, -1, 6, -1, -1, 6, -1, 7, -1, 6, 6, 7, 5, 8, 1, -1, 1, 2, 1, 1, 1, 7, -1, 1, 7, 0, 12, -1, 12, 3, 6, 6, 12, 0, 6, 3, -1, -1, 11, 1, 1, 6, 0, 1, 1, 0, 6, 3, -1, -1, 0, -1, 6, 1, 2, 6, -1, 1, -1, 1, 6, 7, 5, 10, 5, 6, 1, 1, 4, 0, 1, -1, 5, -1, -1, 0, 1, 9, 6, 6, 10, 1, -1, 1, 10, -1, 5, -1, -1, 2, 6, 1, 6, 7, -1, -1, 8, -1, 1, 9, 5, -1, 8, -1, -1, 1, 1, 1, 1, 1, 5, 12, 3, 6, 6, -1, 6, 1, 11, 3, 5, 10, -1, 0, 6, 5, 6, 1, -1, 6, 7, -1, 2, 5, 9, 6, 7, 9, 5, -1, 7, 10, 6, 6, 3, 6, 1, 5, 1, 10, 1, 7, 4, -1, 10, 8, 6, 1, 2, 10, 5, 5, 2, 10, 9, -1, 4, 9, 3, -1, -1, 10, -1, 9, 5, 4, 8, 8, -1, 4, 3, 1, 4, 9, -1, 5, 1, 10, -1, -1, 9, 5, 7]\n",
            "Unique topics: {0, 1, 2, 3, 4, 5, 6, 7, 8, 9, 10, 11, 12, -1}\n"
          ]
        },
        {
          "output_type": "display_data",
          "data": {
            "text/plain": [
              "<IPython.core.display.Javascript object>"
            ],
            "application/javascript": [
              "\n",
              "    async function download(id, filename, size) {\n",
              "      if (!google.colab.kernel.accessAllowed) {\n",
              "        return;\n",
              "      }\n",
              "      const div = document.createElement('div');\n",
              "      const label = document.createElement('label');\n",
              "      label.textContent = `Downloading \"${filename}\": `;\n",
              "      div.appendChild(label);\n",
              "      const progress = document.createElement('progress');\n",
              "      progress.max = size;\n",
              "      div.appendChild(progress);\n",
              "      document.body.appendChild(div);\n",
              "\n",
              "      const buffers = [];\n",
              "      let downloaded = 0;\n",
              "\n",
              "      const channel = await google.colab.kernel.comms.open(id);\n",
              "      // Send a message to notify the kernel that we're ready.\n",
              "      channel.send({})\n",
              "\n",
              "      for await (const message of channel.messages) {\n",
              "        // Send a message to notify the kernel that we're ready.\n",
              "        channel.send({})\n",
              "        if (message.buffers) {\n",
              "          for (const buffer of message.buffers) {\n",
              "            buffers.push(buffer);\n",
              "            downloaded += buffer.byteLength;\n",
              "            progress.value = downloaded;\n",
              "          }\n",
              "        }\n",
              "      }\n",
              "      const blob = new Blob(buffers, {type: 'application/binary'});\n",
              "      const a = document.createElement('a');\n",
              "      a.href = window.URL.createObjectURL(blob);\n",
              "      a.download = filename;\n",
              "      div.appendChild(a);\n",
              "      a.click();\n",
              "      div.remove();\n",
              "    }\n",
              "  "
            ]
          },
          "metadata": {}
        },
        {
          "output_type": "display_data",
          "data": {
            "text/plain": [
              "<IPython.core.display.Javascript object>"
            ],
            "application/javascript": [
              "download(\"download_774ffd46-8f7e-41a9-ba11-f98ec87a718a\", \"topic_visualization.html\", 4573152)"
            ]
          },
          "metadata": {}
        },
        {
          "output_type": "display_data",
          "data": {
            "text/plain": [
              "<IPython.core.display.Javascript object>"
            ],
            "application/javascript": [
              "\n",
              "    async function download(id, filename, size) {\n",
              "      if (!google.colab.kernel.accessAllowed) {\n",
              "        return;\n",
              "      }\n",
              "      const div = document.createElement('div');\n",
              "      const label = document.createElement('label');\n",
              "      label.textContent = `Downloading \"${filename}\": `;\n",
              "      div.appendChild(label);\n",
              "      const progress = document.createElement('progress');\n",
              "      progress.max = size;\n",
              "      div.appendChild(progress);\n",
              "      document.body.appendChild(div);\n",
              "\n",
              "      const buffers = [];\n",
              "      let downloaded = 0;\n",
              "\n",
              "      const channel = await google.colab.kernel.comms.open(id);\n",
              "      // Send a message to notify the kernel that we're ready.\n",
              "      channel.send({})\n",
              "\n",
              "      for await (const message of channel.messages) {\n",
              "        // Send a message to notify the kernel that we're ready.\n",
              "        channel.send({})\n",
              "        if (message.buffers) {\n",
              "          for (const buffer of message.buffers) {\n",
              "            buffers.push(buffer);\n",
              "            downloaded += buffer.byteLength;\n",
              "            progress.value = downloaded;\n",
              "          }\n",
              "        }\n",
              "      }\n",
              "      const blob = new Blob(buffers, {type: 'application/binary'});\n",
              "      const a = document.createElement('a');\n",
              "      a.href = window.URL.createObjectURL(blob);\n",
              "      a.download = filename;\n",
              "      div.appendChild(a);\n",
              "      a.click();\n",
              "      div.remove();\n",
              "    }\n",
              "  "
            ]
          },
          "metadata": {}
        },
        {
          "output_type": "display_data",
          "data": {
            "text/plain": [
              "<IPython.core.display.Javascript object>"
            ],
            "application/javascript": [
              "download(\"download_e949abf9-44bd-4ddf-9fa4-db2af227f13e\", \"hierarchy_visualization.html\", 4570259)"
            ]
          },
          "metadata": {}
        },
        {
          "output_type": "display_data",
          "data": {
            "text/plain": [
              "<IPython.core.display.Javascript object>"
            ],
            "application/javascript": [
              "\n",
              "    async function download(id, filename, size) {\n",
              "      if (!google.colab.kernel.accessAllowed) {\n",
              "        return;\n",
              "      }\n",
              "      const div = document.createElement('div');\n",
              "      const label = document.createElement('label');\n",
              "      label.textContent = `Downloading \"${filename}\": `;\n",
              "      div.appendChild(label);\n",
              "      const progress = document.createElement('progress');\n",
              "      progress.max = size;\n",
              "      div.appendChild(progress);\n",
              "      document.body.appendChild(div);\n",
              "\n",
              "      const buffers = [];\n",
              "      let downloaded = 0;\n",
              "\n",
              "      const channel = await google.colab.kernel.comms.open(id);\n",
              "      // Send a message to notify the kernel that we're ready.\n",
              "      channel.send({})\n",
              "\n",
              "      for await (const message of channel.messages) {\n",
              "        // Send a message to notify the kernel that we're ready.\n",
              "        channel.send({})\n",
              "        if (message.buffers) {\n",
              "          for (const buffer of message.buffers) {\n",
              "            buffers.push(buffer);\n",
              "            downloaded += buffer.byteLength;\n",
              "            progress.value = downloaded;\n",
              "          }\n",
              "        }\n",
              "      }\n",
              "      const blob = new Blob(buffers, {type: 'application/binary'});\n",
              "      const a = document.createElement('a');\n",
              "      a.href = window.URL.createObjectURL(blob);\n",
              "      a.download = filename;\n",
              "      div.appendChild(a);\n",
              "      a.click();\n",
              "      div.remove();\n",
              "    }\n",
              "  "
            ]
          },
          "metadata": {}
        },
        {
          "output_type": "display_data",
          "data": {
            "text/plain": [
              "<IPython.core.display.Javascript object>"
            ],
            "application/javascript": [
              "download(\"download_5f435812-e034-4536-9c5e-807f1f4ca1be\", \"heatmap_visualization.html\", 4570048)"
            ]
          },
          "metadata": {}
        },
        {
          "output_type": "display_data",
          "data": {
            "text/plain": [
              "<IPython.core.display.Javascript object>"
            ],
            "application/javascript": [
              "\n",
              "    async function download(id, filename, size) {\n",
              "      if (!google.colab.kernel.accessAllowed) {\n",
              "        return;\n",
              "      }\n",
              "      const div = document.createElement('div');\n",
              "      const label = document.createElement('label');\n",
              "      label.textContent = `Downloading \"${filename}\": `;\n",
              "      div.appendChild(label);\n",
              "      const progress = document.createElement('progress');\n",
              "      progress.max = size;\n",
              "      div.appendChild(progress);\n",
              "      document.body.appendChild(div);\n",
              "\n",
              "      const buffers = [];\n",
              "      let downloaded = 0;\n",
              "\n",
              "      const channel = await google.colab.kernel.comms.open(id);\n",
              "      // Send a message to notify the kernel that we're ready.\n",
              "      channel.send({})\n",
              "\n",
              "      for await (const message of channel.messages) {\n",
              "        // Send a message to notify the kernel that we're ready.\n",
              "        channel.send({})\n",
              "        if (message.buffers) {\n",
              "          for (const buffer of message.buffers) {\n",
              "            buffers.push(buffer);\n",
              "            downloaded += buffer.byteLength;\n",
              "            progress.value = downloaded;\n",
              "          }\n",
              "        }\n",
              "      }\n",
              "      const blob = new Blob(buffers, {type: 'application/binary'});\n",
              "      const a = document.createElement('a');\n",
              "      a.href = window.URL.createObjectURL(blob);\n",
              "      a.download = filename;\n",
              "      div.appendChild(a);\n",
              "      a.click();\n",
              "      div.remove();\n",
              "    }\n",
              "  "
            ]
          },
          "metadata": {}
        },
        {
          "output_type": "display_data",
          "data": {
            "text/plain": [
              "<IPython.core.display.Javascript object>"
            ],
            "application/javascript": [
              "download(\"download_31ceb424-8170-4f7c-b7e5-cd09d6595260\", \"barchart_visualization.html\", 4571158)"
            ]
          },
          "metadata": {}
        },
        {
          "output_type": "display_data",
          "data": {
            "text/plain": [
              "<IPython.core.display.Javascript object>"
            ],
            "application/javascript": [
              "\n",
              "    async function download(id, filename, size) {\n",
              "      if (!google.colab.kernel.accessAllowed) {\n",
              "        return;\n",
              "      }\n",
              "      const div = document.createElement('div');\n",
              "      const label = document.createElement('label');\n",
              "      label.textContent = `Downloading \"${filename}\": `;\n",
              "      div.appendChild(label);\n",
              "      const progress = document.createElement('progress');\n",
              "      progress.max = size;\n",
              "      div.appendChild(progress);\n",
              "      document.body.appendChild(div);\n",
              "\n",
              "      const buffers = [];\n",
              "      let downloaded = 0;\n",
              "\n",
              "      const channel = await google.colab.kernel.comms.open(id);\n",
              "      // Send a message to notify the kernel that we're ready.\n",
              "      channel.send({})\n",
              "\n",
              "      for await (const message of channel.messages) {\n",
              "        // Send a message to notify the kernel that we're ready.\n",
              "        channel.send({})\n",
              "        if (message.buffers) {\n",
              "          for (const buffer of message.buffers) {\n",
              "            buffers.push(buffer);\n",
              "            downloaded += buffer.byteLength;\n",
              "            progress.value = downloaded;\n",
              "          }\n",
              "        }\n",
              "      }\n",
              "      const blob = new Blob(buffers, {type: 'application/binary'});\n",
              "      const a = document.createElement('a');\n",
              "      a.href = window.URL.createObjectURL(blob);\n",
              "      a.download = filename;\n",
              "      div.appendChild(a);\n",
              "      a.click();\n",
              "      div.remove();\n",
              "    }\n",
              "  "
            ]
          },
          "metadata": {}
        },
        {
          "output_type": "display_data",
          "data": {
            "text/plain": [
              "<IPython.core.display.Javascript object>"
            ],
            "application/javascript": [
              "download(\"download_7f927d5e-5891-4343-86de-34e9961aa21a\", \"topic_scatter_2d_plot_with_lines.html\", 4593652)"
            ]
          },
          "metadata": {}
        },
        {
          "output_type": "display_data",
          "data": {
            "text/plain": [
              "<IPython.core.display.Javascript object>"
            ],
            "application/javascript": [
              "\n",
              "    async function download(id, filename, size) {\n",
              "      if (!google.colab.kernel.accessAllowed) {\n",
              "        return;\n",
              "      }\n",
              "      const div = document.createElement('div');\n",
              "      const label = document.createElement('label');\n",
              "      label.textContent = `Downloading \"${filename}\": `;\n",
              "      div.appendChild(label);\n",
              "      const progress = document.createElement('progress');\n",
              "      progress.max = size;\n",
              "      div.appendChild(progress);\n",
              "      document.body.appendChild(div);\n",
              "\n",
              "      const buffers = [];\n",
              "      let downloaded = 0;\n",
              "\n",
              "      const channel = await google.colab.kernel.comms.open(id);\n",
              "      // Send a message to notify the kernel that we're ready.\n",
              "      channel.send({})\n",
              "\n",
              "      for await (const message of channel.messages) {\n",
              "        // Send a message to notify the kernel that we're ready.\n",
              "        channel.send({})\n",
              "        if (message.buffers) {\n",
              "          for (const buffer of message.buffers) {\n",
              "            buffers.push(buffer);\n",
              "            downloaded += buffer.byteLength;\n",
              "            progress.value = downloaded;\n",
              "          }\n",
              "        }\n",
              "      }\n",
              "      const blob = new Blob(buffers, {type: 'application/binary'});\n",
              "      const a = document.createElement('a');\n",
              "      a.href = window.URL.createObjectURL(blob);\n",
              "      a.download = filename;\n",
              "      div.appendChild(a);\n",
              "      a.click();\n",
              "      div.remove();\n",
              "    }\n",
              "  "
            ]
          },
          "metadata": {}
        },
        {
          "output_type": "display_data",
          "data": {
            "text/plain": [
              "<IPython.core.display.Javascript object>"
            ],
            "application/javascript": [
              "download(\"download_22d47854-b8f9-41d9-9df4-4159a225d068\", \"temporal_visualization.html\", 4602860)"
            ]
          },
          "metadata": {}
        },
        {
          "output_type": "display_data",
          "data": {
            "text/plain": [
              "<IPython.core.display.Javascript object>"
            ],
            "application/javascript": [
              "\n",
              "    async function download(id, filename, size) {\n",
              "      if (!google.colab.kernel.accessAllowed) {\n",
              "        return;\n",
              "      }\n",
              "      const div = document.createElement('div');\n",
              "      const label = document.createElement('label');\n",
              "      label.textContent = `Downloading \"${filename}\": `;\n",
              "      div.appendChild(label);\n",
              "      const progress = document.createElement('progress');\n",
              "      progress.max = size;\n",
              "      div.appendChild(progress);\n",
              "      document.body.appendChild(div);\n",
              "\n",
              "      const buffers = [];\n",
              "      let downloaded = 0;\n",
              "\n",
              "      const channel = await google.colab.kernel.comms.open(id);\n",
              "      // Send a message to notify the kernel that we're ready.\n",
              "      channel.send({})\n",
              "\n",
              "      for await (const message of channel.messages) {\n",
              "        // Send a message to notify the kernel that we're ready.\n",
              "        channel.send({})\n",
              "        if (message.buffers) {\n",
              "          for (const buffer of message.buffers) {\n",
              "            buffers.push(buffer);\n",
              "            downloaded += buffer.byteLength;\n",
              "            progress.value = downloaded;\n",
              "          }\n",
              "        }\n",
              "      }\n",
              "      const blob = new Blob(buffers, {type: 'application/binary'});\n",
              "      const a = document.createElement('a');\n",
              "      a.href = window.URL.createObjectURL(blob);\n",
              "      a.download = filename;\n",
              "      div.appendChild(a);\n",
              "      a.click();\n",
              "      div.remove();\n",
              "    }\n",
              "  "
            ]
          },
          "metadata": {}
        },
        {
          "output_type": "display_data",
          "data": {
            "text/plain": [
              "<IPython.core.display.Javascript object>"
            ],
            "application/javascript": [
              "download(\"download_15377475-7dca-4e5d-a996-e9dded2c2528\", \"papers_with_topics.html\", 429884)"
            ]
          },
          "metadata": {}
        }
      ]
    }
  ]
}